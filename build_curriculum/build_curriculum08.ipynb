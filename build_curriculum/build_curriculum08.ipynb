{
 "cells": [
  {
   "cell_type": "code",
   "execution_count": 1,
   "metadata": {
    "jupyter": {
     "source_hidden": true
    }
   },
   "outputs": [
    {
     "name": "stdout",
     "output_type": "stream",
     "text": [
      "importing Jupyter notebook from module_poleclass.ipynb\n",
      "Number of poles to be generated per class: 1537600\n",
      "Ndata to be generated= 16913600\n",
      "Your directory is: curriculum08_training\n"
     ]
    }
   ],
   "source": [
    "import math\n",
    "import numpy as np\n",
    "import cmath as cm\n",
    "import random\n",
    "import pickle\n",
    "import os\n",
    "import pandas as pd\n",
    "import matplotlib.pyplot as plt\n",
    "from matplotlib.pyplot import figure\n",
    "import chainer\n",
    "from chainer import configuration\n",
    "from chainer.dataset import convert\n",
    "import sklearn\n",
    "from sklearn.utils import shuffle\n",
    "from tabulate import tabulate\n",
    "\n",
    "import import_ipynb\n",
    "\n",
    "import module_poleclass\n",
    "from module_poleclass import mu1, mu2, T1, T2, T3, T4, Nreal, Nimag\n",
    "from module_poleclass import Ereal, Eimag, Erealfar, Eimagfar, E_exp, labelz\n",
    "from module_poleclass import pole, seerealimagpart, skipduplicate, exportdata, importdata, get_traintest, directory"
   ]
  },
  {
   "cell_type": "code",
   "execution_count": 2,
   "metadata": {},
   "outputs": [],
   "source": [
    "#This is the old curriculum arrangement\n",
    "oldcurr = [0, 1, 11, 21,\n",
    "           2, 12, 22, 10, 20, 30,\n",
    "           3, 13, 23, 6, 8, 16, 18, 26, 28, 34,\n",
    "           4, 14, 24, 5, 7, 9, 15, 17, 19, 25, 27, 29, 31, 32, 33]"
   ]
  },
  {
   "cell_type": "code",
   "execution_count": 3,
   "metadata": {},
   "outputs": [
    {
     "name": "stdout",
     "output_type": "stream",
     "text": [
      "importing Jupyter notebook from gen_dataset00.ipynb\n",
      "importing Jupyter notebook from gen_dataset11.ipynb\n",
      "importing Jupyter notebook from gen_dataset02.ipynb\n",
      "importing Jupyter notebook from gen_dataset22.ipynb\n",
      "importing Jupyter notebook from gen_dataset20.ipynb\n",
      "importing Jupyter notebook from gen_dataset03.ipynb\n"
     ]
    }
   ],
   "source": [
    "#generate curriculum08 dataset only\n",
    "import gen_dataset00\n",
    "#import gen_dataset01\n",
    "import gen_dataset11\n",
    "#import gen_dataset21\n",
    "\n",
    "import gen_dataset02\n",
    "#import gen_dataset12\n",
    "import gen_dataset22\n",
    "\n",
    "#import gen_dataset10\n",
    "import gen_dataset20\n",
    "#import gen_dataset30\n",
    "import gen_dataset03"
   ]
  },
  {
   "cell_type": "code",
   "execution_count": null,
   "metadata": {},
   "outputs": [],
   "source": []
  },
  {
   "cell_type": "code",
   "execution_count": null,
   "metadata": {},
   "outputs": [],
   "source": []
  }
 ],
 "metadata": {
  "kernelspec": {
   "display_name": "Python 3",
   "language": "python",
   "name": "python3"
  },
  "language_info": {
   "codemirror_mode": {
    "name": "ipython",
    "version": 3
   },
   "file_extension": ".py",
   "mimetype": "text/x-python",
   "name": "python",
   "nbconvert_exporter": "python",
   "pygments_lexer": "ipython3",
   "version": "3.7.4"
  }
 },
 "nbformat": 4,
 "nbformat_minor": 4
}
