{
 "cells": [
  {
   "cell_type": "code",
   "execution_count": 1,
   "metadata": {},
   "outputs": [],
   "source": [
    "import math\n",
    "import numpy as np\n",
    "import cmath as cm\n",
    "import random\n",
    "import pickle\n",
    "import os\n",
    "import pandas as pd\n",
    "import matplotlib.pyplot as plt\n",
    "from matplotlib.pyplot import figure\n",
    "import chainer\n",
    "from chainer import configuration\n",
    "from chainer.dataset import convert\n",
    "import sklearn\n",
    "from sklearn.utils import shuffle\n",
    "from tabulate import tabulate\n",
    "\n",
    "#import import_ipynb\n",
    "\n",
    "#import module_poleclass\n",
    "#from module_poleclass import mu1, mu2, T1, T2, T3, T4, Nreal, Nimag\n",
    "#from module_poleclass import Ereal, Eimag, Erealfar, Eimagfar, E_exp, labelz\n",
    "#from module_poleclass import pole, seerealimagpart, skipduplicate, exportdata, importdata, get_traintest, directory"
   ]
  },
  {
   "cell_type": "code",
   "execution_count": 2,
   "metadata": {},
   "outputs": [],
   "source": [
    "directory = 'curriculum02_training_toobig4case'"
   ]
  },
  {
   "cell_type": "code",
   "execution_count": 3,
   "metadata": {},
   "outputs": [
    {
     "data": {
      "text/plain": [
       "12960000"
      ]
     },
     "execution_count": 3,
     "metadata": {},
     "output_type": "execute_result"
    }
   ],
   "source": [
    "1800*1800*4"
   ]
  },
  {
   "cell_type": "code",
   "execution_count": 4,
   "metadata": {},
   "outputs": [],
   "source": [
    "#This is the old curriculum arrangement\n",
    "oldcurr = [0, 1, 11, 21,\n",
    "           2, 12, 22, 10, 20, 30,\n",
    "           3, 13, 23, 6, 8, 16, 18, 26, 28, 34,\n",
    "           4, 14, 24, 5, 7, 9, 15, 17, 19, 25, 27, 29, 31, 32, 33]"
   ]
  },
  {
   "cell_type": "code",
   "execution_count": 5,
   "metadata": {},
   "outputs": [],
   "source": [
    "curriculum = 2"
   ]
  },
  {
   "cell_type": "code",
   "execution_count": 6,
   "metadata": {},
   "outputs": [
    {
     "name": "stdout",
     "output_type": "stream",
     "text": [
      "3240000\n"
     ]
    }
   ],
   "source": [
    "Einput = pickle.load(open(os.path.join(directory,'Einput00.pkl'),'rb'))\n",
    "ReT11 = pickle.load(open(os.path.join(directory,'ReT1100.pkl'),'rb'))\n",
    "ImT11 = pickle.load(open(os.path.join(directory,'ImT1100.pkl'),'rb'))\n",
    "pickle.dump (np.concatenate((Einput,ReT11,ImT11),axis=1), \n",
    "             open(os.path.join(directory,'T11_curr{:02d}.pkl'.format(curriculum)),'wb'), protocol=4)\n",
    "print(len(Einput))"
   ]
  },
  {
   "cell_type": "code",
   "execution_count": 7,
   "metadata": {},
   "outputs": [
    {
     "name": "stdout",
     "output_type": "stream",
     "text": [
      "6480000\n",
      "9720000\n",
      "12960000\n",
      "16200000\n"
     ]
    }
   ],
   "source": [
    "for add_data in range(1,curriculum+3):\n",
    "    xx = oldcurr[add_data]\n",
    "    Einput = Einput + pickle.load(open(os.path.join(directory,'Einput{:02d}.pkl'.format(xx)),'rb'))\n",
    "    ReT11 = ReT11 + pickle.load(open(os.path.join(directory,'ReT11{:02d}.pkl'.format(xx)),'rb'))\n",
    "    ImT11 = ImT11 + pickle.load(open(os.path.join(directory,'ImT11{:02d}.pkl'.format(xx)),'rb'))\n",
    "    pickle.dump (np.concatenate((np.float32(np.asarray(Einput)),np.float32(np.asarray(ReT11)),np.float32(np.asarray(ImT11))),axis=1), \n",
    "             open(os.path.join(directory,'T11_curr{:02d}.pkl'.format(curriculum)),'wb'), protocol=4)\n",
    "    print(len(Einput))"
   ]
  },
  {
   "cell_type": "code",
   "execution_count": null,
   "metadata": {},
   "outputs": [],
   "source": [
    "pickle.dump (np.concatenate((np.float32(np.asarray(Einput)),np.float32(np.asarray(ReT11)),np.float32(np.asarray(ImT11))),axis=1), \n",
    "             open(os.path.join(directory,'T11_curr{:02d}.pkl'.format(curriculum)),'wb'), protocol=4)\n",
    "print(Einput)"
   ]
  },
  {
   "cell_type": "code",
   "execution_count": null,
   "metadata": {},
   "outputs": [],
   "source": [
    "Einput = Einput + pickle.load(open(os.path.join(directory,'Einput02.pkl'),'rb'))\n",
    "ReT11 = ReT11 + pickle.load(open(os.path.join(directory,'ReT1102.pkl'),'rb'))\n",
    "ImT11 = ImT11 + pickle.load(open(os.path.join(directory,'ImT1102.pkl'),'rb'))"
   ]
  },
  {
   "cell_type": "code",
   "execution_count": null,
   "metadata": {},
   "outputs": [],
   "source": [
    "len(ImT11)"
   ]
  },
  {
   "cell_type": "code",
   "execution_count": null,
   "metadata": {},
   "outputs": [],
   "source": [
    "pickle.dump (np.concatenate((Einput,ReT11,ImT11),axis=1),\n",
    "             open(os.path.join(directory,'T11_curr{:02d}.pkl'.format(curriculum)),'wb'), protocol=4)"
   ]
  },
  {
   "cell_type": "code",
   "execution_count": null,
   "metadata": {},
   "outputs": [],
   "source": [
    "T11 = pickle.load(open(os.path.join(directory,'T11_curr{:02d}.pkl'.format(curriculum)),'rb'))\n",
    "len(T11)"
   ]
  },
  {
   "cell_type": "code",
   "execution_count": null,
   "metadata": {},
   "outputs": [],
   "source": [
    "len(T11)/(1800*1800)"
   ]
  },
  {
   "cell_type": "code",
   "execution_count": null,
   "metadata": {},
   "outputs": [],
   "source": [
    "len(T11[0])"
   ]
  },
  {
   "cell_type": "code",
   "execution_count": null,
   "metadata": {},
   "outputs": [],
   "source": [
    "    T11 = np.concatenate((pickle.load(open(os.path.join(directory,'Einput{:02d}.pkl'.format(xx)),'rb')),\n",
    "                      pickle.load(open(os.path.join(directory,'ReT11{:02d}.pkl'.format(xx)),'rb')),\n",
    "                      pickle.load(open(os.path.join(directory,'ImT11{:02d}.pkl'.format(xx)),'rb'))\n",
    "                     ), axis=1)"
   ]
  },
  {
   "cell_type": "code",
   "execution_count": null,
   "metadata": {},
   "outputs": [],
   "source": [
    "pickle.dump (T11, open(os.path.join(directory,'T11_curr{:02d}.pkl'.format(curriculum)),'wb'), protocol=4)\n",
    "del T11"
   ]
  },
  {
   "cell_type": "code",
   "execution_count": null,
   "metadata": {},
   "outputs": [],
   "source": [
    "T11 = np.concatenate((pickle.load(open(os.path.join(directory,'T11_curr{:02d}.pkl'.format(curriculum)),'rb')),\n",
    "                      pickle.load(open(os.path.join(directory,'ImT11_curr{:02d}.pkl'.format(curriculum)),'rb'))\n",
    "                     ), axis=1)\n",
    "pickle.dump (T11, open(os.path.join(directory,'T11_curr{:02d}.pkl'.format(curriculum)),'wb'), protocol=4)\n",
    "del T11"
   ]
  },
  {
   "cell_type": "code",
   "execution_count": 8,
   "metadata": {},
   "outputs": [
    {
     "name": "stdout",
     "output_type": "stream",
     "text": [
      "size of dataset: 16200000\n",
      "number of nodes in input layer: 111\n",
      "50\n",
      "Shuffling done\n",
      "done training set\n",
      "curriculum 2 done!\n"
     ]
    }
   ],
   "source": [
    "out = directory\n",
    "Nshuffle = 50\n",
    "inputtraining = pickle.load(open(os.path.join(out,'T11_curr{:02d}.pkl'.format(curriculum)),'rb'))\n",
    "inputtraining = np.float32(np.asarray(inputtraining))\n",
    "outputtraining = pickle.load(open(os.path.join(out,'labelout_curr{:02d}.pkl'.format(curriculum)),'rb'))\n",
    "print('size of dataset:', len(inputtraining))\n",
    "print('number of nodes in input layer:',len(inputtraining[0]))    \n",
    "print(Nshuffle)\n",
    "for ndx in range(Nshuffle):\n",
    "    inputtraining, outputtraining = shuffle(inputtraining, outputtraining)\n",
    "print('Shuffling done')\n",
    "\n",
    "inputtraining = chainer.datasets.TupleDataset(inputtraining, outputtraining)\n",
    "del outputtraining\n",
    "print('done training set')\n",
    "pickle.dump (inputtraining, open(os.path.join(out,'chainer_train_curr{:02d}.pkl'.format(curriculum)),'wb'), protocol=4)\n",
    "del inputtraining\n",
    "print('curriculum',2,'done!')"
   ]
  },
  {
   "cell_type": "code",
   "execution_count": null,
   "metadata": {},
   "outputs": [],
   "source": []
  }
 ],
 "metadata": {
  "kernelspec": {
   "display_name": "Python 3",
   "language": "python",
   "name": "python3"
  },
  "language_info": {
   "codemirror_mode": {
    "name": "ipython",
    "version": 3
   },
   "file_extension": ".py",
   "mimetype": "text/x-python",
   "name": "python",
   "nbconvert_exporter": "python",
   "pygments_lexer": "ipython3",
   "version": "3.7.4"
  }
 },
 "nbformat": 4,
 "nbformat_minor": 4
}
