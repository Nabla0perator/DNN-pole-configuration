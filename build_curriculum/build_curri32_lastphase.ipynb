{
 "cells": [
  {
   "cell_type": "code",
   "execution_count": 1,
   "metadata": {},
   "outputs": [],
   "source": [
    "import math\n",
    "import numpy as np\n",
    "import cmath as cm\n",
    "import random\n",
    "import pickle\n",
    "import os\n",
    "import pandas as pd\n",
    "import matplotlib.pyplot as plt\n",
    "from matplotlib.pyplot import figure\n",
    "import chainer\n",
    "from chainer import configuration\n",
    "from chainer.dataset import convert\n",
    "import sklearn\n",
    "from sklearn.utils import shuffle\n",
    "from tabulate import tabulate\n",
    "\n",
    "#import import_ipynb\n",
    "\n",
    "#import module_poleclass\n",
    "#from module_poleclass import mu1, mu2, T1, T2, T3, T4, Nreal, Nimag\n",
    "#from module_poleclass import Ereal, Eimag, Erealfar, Eimagfar, E_exp, labelz\n",
    "#from module_poleclass import pole, seerealimagpart, skipduplicate, exportdata, importdata, get_traintest, directory"
   ]
  },
  {
   "cell_type": "code",
   "execution_count": 2,
   "metadata": {},
   "outputs": [],
   "source": [
    "directory = 'curriculum32_testing'\n",
    "curriculum = 32"
   ]
  },
  {
   "cell_type": "code",
   "execution_count": 3,
   "metadata": {},
   "outputs": [],
   "source": [
    "#This is the old curriculum arrangement\n",
    "oldcurr = [0, 1, 11, 21,\n",
    "           2, 12, 22, 10, 20, 30,\n",
    "           3, 13, 23, 6, 8, 16, 18, 26, 28, 34,\n",
    "           4, 14, 24, 5, 7, 9, 15, 17, 19, 25, 27, 29, 31, 32, 33]"
   ]
  },
  {
   "cell_type": "code",
   "execution_count": null,
   "metadata": {},
   "outputs": [],
   "source": []
  },
  {
   "cell_type": "code",
   "execution_count": 4,
   "metadata": {},
   "outputs": [
    {
     "name": "stdout",
     "output_type": "stream",
     "text": [
      "10000\n"
     ]
    }
   ],
   "source": [
    "Einput = pickle.load(open(os.path.join(directory,'Einput00.pkl'),'rb'))\n",
    "ReT11 = pickle.load(open(os.path.join(directory,'ReT1100.pkl'),'rb'))\n",
    "ImT11 = pickle.load(open(os.path.join(directory,'ImT1100.pkl'),'rb'))\n",
    "pickle.dump (np.concatenate((Einput,ReT11,ImT11),axis=1), \n",
    "             open(os.path.join(directory,'T11_curr{:02d}.pkl'.format(curriculum)),'wb'), protocol=4)\n",
    "print(len(Einput))"
   ]
  },
  {
   "cell_type": "code",
   "execution_count": 5,
   "metadata": {},
   "outputs": [
    {
     "name": "stdout",
     "output_type": "stream",
     "text": [
      "20000\n",
      "30000\n",
      "40000\n",
      "50000\n",
      "60000\n",
      "70000\n",
      "80000\n",
      "90000\n",
      "100000\n",
      "110000\n",
      "120000\n",
      "130000\n",
      "140000\n",
      "150000\n",
      "160000\n",
      "170000\n",
      "180000\n",
      "190000\n",
      "200000\n",
      "210000\n",
      "220000\n",
      "230000\n",
      "240000\n",
      "250000\n",
      "260000\n",
      "270000\n",
      "280000\n",
      "290000\n",
      "300000\n",
      "310000\n",
      "320000\n",
      "330000\n",
      "340000\n",
      "350000\n"
     ]
    }
   ],
   "source": [
    "for add_data in range(1,curriculum+3):\n",
    "    xx = oldcurr[add_data]\n",
    "    Einput = Einput + pickle.load(open(os.path.join(directory,'Einput{:02d}.pkl'.format(xx)),'rb'))\n",
    "    ReT11 = ReT11 + pickle.load(open(os.path.join(directory,'ReT11{:02d}.pkl'.format(xx)),'rb'))\n",
    "    ImT11 = ImT11 + pickle.load(open(os.path.join(directory,'ImT11{:02d}.pkl'.format(xx)),'rb'))\n",
    "    pickle.dump (np.concatenate((np.float32(np.asarray(Einput)),np.float32(np.asarray(ReT11)),np.float32(np.asarray(ImT11))),axis=1), \n",
    "             open(os.path.join(directory,'T11_curr{:02d}.pkl'.format(curriculum)),'wb'), protocol=4)\n",
    "    print(len(Einput))"
   ]
  },
  {
   "cell_type": "code",
   "execution_count": 6,
   "metadata": {},
   "outputs": [
    {
     "name": "stdout",
     "output_type": "stream",
     "text": [
      "10000\n",
      "20000\n",
      "30000\n",
      "40000\n",
      "50000\n",
      "60000\n",
      "70000\n",
      "80000\n",
      "90000\n",
      "100000\n",
      "110000\n",
      "120000\n",
      "130000\n",
      "140000\n",
      "150000\n",
      "160000\n",
      "170000\n",
      "180000\n",
      "190000\n",
      "200000\n",
      "210000\n",
      "220000\n",
      "230000\n",
      "240000\n",
      "250000\n",
      "260000\n",
      "270000\n",
      "280000\n",
      "290000\n",
      "300000\n",
      "310000\n",
      "320000\n",
      "330000\n",
      "340000\n",
      "350000\n"
     ]
    }
   ],
   "source": [
    "labelout = pickle.load(open(os.path.join(directory,'labelout00.pkl'),'rb'))\n",
    "print(len(labelout))\n",
    "for add_data in range(1,curriculum+3):\n",
    "    xx = oldcurr[add_data]\n",
    "    labelout = labelout + pickle.load(open(os.path.join(directory,'labelout{:02d}.pkl'.format(xx)),'rb'))\n",
    "    pickle.dump (labelout, open(os.path.join(directory,'labelout_curr{:02d}.pkl'.format(curriculum)),'wb'), protocol=4)\n",
    "    print(len(labelout))"
   ]
  },
  {
   "cell_type": "code",
   "execution_count": 7,
   "metadata": {},
   "outputs": [
    {
     "name": "stdout",
     "output_type": "stream",
     "text": [
      "size of dataset: 350000\n",
      "number of nodes in input layer: 111\n",
      "done training set\n",
      "curriculum 32 done!\n"
     ]
    }
   ],
   "source": [
    "out = directory\n",
    "Nshuffle = 3200\n",
    "inputtraining = pickle.load(open(os.path.join(out,'T11_curr{:02d}.pkl'.format(curriculum)),'rb'))\n",
    "inputtraining = np.float32(np.asarray(inputtraining))\n",
    "outputtraining = pickle.load(open(os.path.join(out,'labelout_curr{:02d}.pkl'.format(curriculum)),'rb'))\n",
    "print('size of dataset:', len(inputtraining))\n",
    "print('number of nodes in input layer:',len(inputtraining[0]))    \n",
    "print(Nshuffle)\n",
    "for ndx in range(Nshuffle):\n",
    "    inputtraining, outputtraining = shuffle(inputtraining, outputtraining)\n",
    "print('Shuffling done')\n",
    "\n",
    "inputtraining = chainer.datasets.TupleDataset(inputtraining, outputtraining)\n",
    "del outputtraining\n",
    "print('done training set')\n",
    "pickle.dump (inputtraining, open(os.path.join(out,'chainer_train_curr{:02d}.pkl'.format(curriculum)),'wb'), protocol=4)\n",
    "del inputtraining\n",
    "print('curriculum',curriculum,'done!')"
   ]
  },
  {
   "cell_type": "code",
   "execution_count": null,
   "metadata": {},
   "outputs": [],
   "source": []
  }
 ],
 "metadata": {
  "kernelspec": {
   "display_name": "Python 3",
   "language": "python",
   "name": "python3"
  },
  "language_info": {
   "codemirror_mode": {
    "name": "ipython",
    "version": 3
   },
   "file_extension": ".py",
   "mimetype": "text/x-python",
   "name": "python",
   "nbconvert_exporter": "python",
   "pygments_lexer": "ipython3",
   "version": "3.7.4"
  }
 },
 "nbformat": 4,
 "nbformat_minor": 4
}
