{
 "cells": [
  {
   "cell_type": "code",
   "execution_count": 1,
   "metadata": {},
   "outputs": [],
   "source": [
    "import os\n",
    "\n",
    "import chainer\n",
    "from chainer import configuration\n",
    "from chainer.dataset import convert\n",
    "import chainer.links as L\n",
    "import chainer.functions as F\n",
    "from chainer import serializers\n",
    "\n",
    "import math\n",
    "import numpy as np\n",
    "import cupy as cp\n",
    "import random\n",
    "\n",
    "import sklearn\n",
    "from sklearn.utils import shuffle\n",
    "import pickle\n",
    "\n",
    "import matplotlib.pyplot as plt\n",
    "from matplotlib.pyplot import figure\n",
    "\n",
    "import pandas as pd"
   ]
  },
  {
   "cell_type": "code",
   "execution_count": 2,
   "metadata": {},
   "outputs": [
    {
     "data": {
      "image/png": "[encoded data removed]",
      "text/plain": [
       "<Figure size 432x288 with 1 Axes>"
      ]
     },
     "metadata": {
      "needs_background": "light"
     },
     "output_type": "display_data"
    }
   ],
   "source": [
    "#SAID-GWU model\n",
    "#Center-of-mass energy axis (in MeV) and the real and imaginary parts of scattering amplitude\n",
    "#Data points not beyond K-Lambda threshold\n",
    "piN_data = pd.read_excel(\"S11_piN.xlsx\", \n",
    "                         sheet_name=\"S11-SAID\", \n",
    "                         usecols=[2,7,9], \n",
    "                         skiprows=[0],\n",
    "                         nrows=37)  #30-upto K-Lambda only\n",
    "Einput = piN_data[\"Ecm\"].tolist()\n",
    "Treal = piN_data[\"Trl\"].tolist()\n",
    "Timag = piN_data[\"Tim\"].tolist()\n",
    "\n",
    "Einput = np.array(Einput)\n",
    "Treal = np.array(Treal)\n",
    "Timag = np.array(Timag)\n",
    "\n",
    "#Load amplitude error\n",
    "piN_data = pd.read_excel(\"S11_piN.xlsx\", \n",
    "                         sheet_name=\"S11-SAID\", \n",
    "                         usecols=[8,10], \n",
    "                         skiprows=[0],\n",
    "                         nrows=37)  #30-upto K-Lambda only\n",
    "TrealErr = piN_data[\"TrlErr\"].tolist()\n",
    "TimagErr = piN_data[\"TimErr\"].tolist()\n",
    "\n",
    "font_set_size = 15\n",
    "plt.ylim(-0.3,1.01)\n",
    "plt.plot(Einput,Treal,'+',color='red')\n",
    "plt.plot(Einput,Timag,'*',color='orange')\n",
    "#plt.plot(Einput,Tsqr,'o',color='blue')\n",
    "plt.xlabel('$E_{cm}$ (MeV)', fontsize=font_set_size)\n",
    "plt.xticks(fontsize=font_set_size)\n",
    "plt.ylabel('$ReT$-+,  $ImT$-*',fontsize=font_set_size)\n",
    "plt.yticks(fontsize=font_set_size)\n",
    "plt.tight_layout()\n",
    "\n",
    "#descriptive labels of network output\n",
    "#at most 4 poles in all RS\n",
    "labelz = [\n",
    "#default no pole\n",
    "    'no nearby pole',                          #00\n",
    "#poles in [bt]    \n",
    "    '1 pole  in [bt]',                          #01\n",
    "    '2 poles in [bt]',                         #02\n",
    "    '3 poles in [bt]',                         #03\n",
    "    '4 poles in [bt]',                         #04\n",
    "#[bt] and [bb] no shadow pair    \n",
    "    '3 poles in [bt] and 1 pole  in [bb]',      #05\n",
    "    '2 poles in [bt] and 1 pole  in [bb]',      #06\n",
    "    '2 poles in [bt] and 2 poles in [bb]',     #07 \n",
    "    '1 pole  in [bt] and 2 poles in [bb]',      #08\n",
    "    '1 pole  in [bt] and 3 poles in [bb]',     #09\n",
    "    '1 pole  in [bt] and 1 pole  in [bb]',      #10\n",
    "#poles in [bb] only    \n",
    "    '1 pole  in [bb]',                          #11\n",
    "    '2 poles in [bb]',                         #12\n",
    "    '3 poles in [bb]',                         #13\n",
    "    '4 poles in [bb]',                         #14\n",
    "#[bb] and [tb] no shadow pair    \n",
    "    '3 poles in [bb] and 1 pole  in [tb]',      #15\n",
    "    '2 poles in [bb] and 1 pole  in [tb]',      #16\n",
    "    '2 poles in [bb] and 2 poles in [tb]',     #17   \n",
    "    '1 pole  in [bb] and 2 poles in [tb]',      #18\n",
    "    '1 pole  in [bb] and 3 poles in [tb]',     #19\n",
    "    '1 pole  in [bb] and 1 pole  in [tb]',      #20\n",
    "#poles in [tb] only    \n",
    "    '1 pole  in [tb]',                          #21\n",
    "    '2 poles in [tb]',                         #22\n",
    "    '3 poles in [tb]',                         #23\n",
    "    '4 poles in [tb]',                         #24    \n",
    "#[tb] and [bt]\n",
    "    '3 poles in [tb] and 1 pole  in [bt]',      #25\n",
    "    '2 poles in [tb] and 1 pole  in [bt]',      #26\n",
    "    '2 poles in [tb] and 2 poles in [bt]',     #27\n",
    "    '1 pole  in [tb] and 2 poles in [bt]',      #28\n",
    "    '1 pole  in [tb] and 3 poles in [bt]',     #29 \n",
    "    '1 pole  in [tb] and 1 pole  in [bt]',      #30      \n",
    "#poles in all three\n",
    "    '2 poles in [bt] and 1 pole  in [bb] and 1 pole  in [tb]',    #31\n",
    "    '1 pole  in [bt] and 2 poles in [bb] and 1 pole  in [tb]',    #32\n",
    "    '1 pole  in [bt] and 1 pole  in [bb] and 2 poles in [tb]',    #33\n",
    "    '1 pole  in [bt] and 1 pole  in [bb] and 1 pole  in [tb]'      #34\n",
    "]"
   ]
  },
  {
   "cell_type": "code",
   "execution_count": 3,
   "metadata": {},
   "outputs": [],
   "source": [
    "def Error(halfbar):\n",
    "    error = []\n",
    "    for n in range(len(halfbar)):\n",
    "        errorn = np.random.uniform(low=-halfbar[n], high=+halfbar[n])\n",
    "        #errorn=np.random.normal(loc=0.0, scale=halfbar[n],size=None)\n",
    "        #errorn=np.random.normal(loc=0.0, scale=halfbar[n]/2.0,size=None)\n",
    "        #errorn=np.random.normal(loc=0.0, scale=halfbar[n]/3.0,size=None)\n",
    "        #errorn=np.random.normal(loc=0.0, scale=halfbar[n]/4.0,size=None)\n",
    "        #errorn=np.random.normal(loc=0.0, scale=halfbar[n]/5.0,size=None)\n",
    "        #errorn = np.random.poisson(halfbar[n])\n",
    "        error.append(errorn)\n",
    "    error=np.asarray(error)\n",
    "    return error"
   ]
  },
  {
   "cell_type": "code",
   "execution_count": 14,
   "metadata": {},
   "outputs": [
    {
     "name": "stdout",
     "output_type": "stream",
     "text": [
      "We are now in epoch: 31139\n",
      "You can only use DNN in multiple of 10 epoch version during the inference stage\n"
     ]
    }
   ],
   "source": [
    "import import_ipynb\n",
    "import dnn_models\n",
    "from dnn_models import MLP3L\n",
    "device = 0\n",
    "\n",
    "trainingdirectory = 'dnn_curr32_full'\n",
    "training = pickle.load(open(os.path.join(trainingdirectory,\"training_accu1.pkl\"),\"rb\"))\n",
    "testing = pickle.load(open(os.path.join(trainingdirectory,\"testing_accu1.pkl\"),\"rb\"))\n",
    "print('We are now in epoch:', len(training))\n",
    "print('You can only use DNN in multiple of 10 epoch version during the inference stage')"
   ]
  },
  {
   "cell_type": "code",
   "execution_count": 15,
   "metadata": {},
   "outputs": [
    {
     "data": {
      "text/plain": [
       "0.7240249701134439"
      ]
     },
     "execution_count": 15,
     "metadata": {},
     "output_type": "execute_result"
    }
   ],
   "source": [
    "training[31100-1]"
   ]
  },
  {
   "cell_type": "code",
   "execution_count": null,
   "metadata": {},
   "outputs": [
    {
     "name": "stdout",
     "output_type": "stream",
     "text": [
      "0.7240249701134439\n"
     ]
    }
   ],
   "source": [
    "epochmodel = 31100 #31070\n",
    "print(training[epochmodel-1])\n",
    "\n",
    "directory = 'dnn_curr32_snapshot//epoch{:06d}'.format(epochmodel)\n",
    "dnn_model = MLP3L(200,200,200)\n",
    "dnn_model = L.Classifier(dnn_model)\n",
    "dnn_model.to_device(device)\n",
    "\n",
    "said_result = []\n",
    "\n",
    "Nexpdata = 1000000\n",
    "for n in range(Nexpdata):\n",
    "    RealError = Error(TrealErr)\n",
    "    ImagError = Error(TimagErr)\n",
    "    data_n = np.concatenate((Einput,Treal-TrealErr+RealError,Timag-TimagErr+ImagError))\n",
    "    data_n = cp.asarray(data_n, dtype=np.float32)\n",
    "   \n",
    "    serializers.load_npz(os.path.join(directory,'MLP1.model'), dnn_model)\n",
    "    model = dnn_model.predictor\n",
    "    \n",
    "    said_result.append(int(model(data_n[None, ...])[0].array.argmax()))"
   ]
  },
  {
   "cell_type": "markdown",
   "metadata": {},
   "source": [
    "## Testing inferences on different epoch versions"
   ]
  },
  {
   "cell_type": "code",
   "execution_count": null,
   "metadata": {},
   "outputs": [],
   "source": [
    "print('generated amplitudes from SAID data:',Nexpdata)\n",
    "print('Training accuracy of DNN after {} epochs:'.format(epochmodel),\n",
    "      '{:0.3f}'.format(100*training[epochmodel-1]))\n",
    "print()\n",
    "print('error bar = uniform distribution')\n",
    "print('Results:')\n",
    "for classif in range(0,35):\n",
    "    counts = said_result.count(classif)\n",
    "    if counts != 0:\n",
    "        percent = counts/len(said_result)*100\n",
    "        print('{:06.3f}% with '.format(percent),'{:>55}'.format(labelz[classif]))"
   ]
  },
  {
   "cell_type": "code",
   "execution_count": null,
   "metadata": {},
   "outputs": [],
   "source": []
  },
  {
   "cell_type": "code",
   "execution_count": null,
   "metadata": {},
   "outputs": [],
   "source": []
  },
  {
   "cell_type": "code",
   "execution_count": 13,
   "metadata": {},
   "outputs": [
    {
     "name": "stdout",
     "output_type": "stream",
     "text": [
      "generated amplitudes from SAID data: 1000000\n",
      "Training accuracy of DNN after 31070 epochs: 69.355\n",
      "\n",
      "error bar = uniform distribution\n",
      "Results:\n",
      "99.967% with  1 pole  in [bt] and 1 pole  in [bb] and 2 poles in [tb]\n",
      "00.033% with  1 pole  in [bt] and 1 pole  in [bb] and 1 pole  in [tb]\n"
     ]
    }
   ],
   "source": [
    "print('generated amplitudes from SAID data:',Nexpdata)\n",
    "print('Training accuracy of DNN after {} epochs:'.format(epochmodel),\n",
    "      '{:0.3f}'.format(100*training[epochmodel-1]))\n",
    "print()\n",
    "print('error bar = uniform distribution')\n",
    "print('Results:')\n",
    "for classif in range(0,35):\n",
    "    counts = said_result.count(classif)\n",
    "    if counts != 0:\n",
    "        percent = counts/len(said_result)*100\n",
    "        print('{:06.3f}% with '.format(percent),'{:>55}'.format(labelz[classif]))"
   ]
  },
  {
   "cell_type": "code",
   "execution_count": null,
   "metadata": {},
   "outputs": [],
   "source": []
  }
 ],
 "metadata": {
  "kernelspec": {
   "display_name": "Python 3",
   "language": "python",
   "name": "python3"
  },
  "language_info": {
   "codemirror_mode": {
    "name": "ipython",
    "version": 3
   },
   "file_extension": ".py",
   "mimetype": "text/x-python",
   "name": "python",
   "nbconvert_exporter": "python",
   "pygments_lexer": "ipython3",
   "version": "3.7.3"
  }
 },
 "nbformat": 4,
 "nbformat_minor": 4
}
